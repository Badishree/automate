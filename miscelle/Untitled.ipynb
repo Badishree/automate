{
 "cells": [
  {
   "cell_type": "code",
   "execution_count": 17,
   "metadata": {},
   "outputs": [],
   "source": [
    "import pandas as pd\n",
    "import numpy as np\n",
    "df = pd.read_excel(r\"C:\\Users\\adishree.b\\Documents\\practice datasets\\Analytics test-29th.xlsx\",skiprows=5)"
   ]
  },
  {
   "cell_type": "code",
   "execution_count": 9,
   "metadata": {},
   "outputs": [
    {
     "data": {
      "text/plain": [
       "Unnamed: 0                        Month\n",
       "Unnamed: 1                      Weekday\n",
       "Unnamed: 2           SF_Advertiser_Name\n",
       "Unnamed: 3    SF_Network_Placement_Name\n",
       "Unnamed: 4                  Device Type\n",
       "Unnamed: 5                Creative Size\n",
       "Unnamed: 6               SF_Client_Goal\n",
       "Unnamed: 7       SF_Client_Goal_Details\n",
       "Unnamed: 8                  Impressions\n",
       "Unnamed: 9                       Clicks\n",
       "Name: 0, dtype: object"
      ]
     },
     "execution_count": 9,
     "metadata": {},
     "output_type": "execute_result"
    }
   ],
   "source": [
    "df.iloc[0,:]"
   ]
  },
  {
   "cell_type": "code",
   "execution_count": 23,
   "metadata": {},
   "outputs": [
    {
     "data": {
      "text/plain": [
       "array(['Month', 'Weekday', 'SF_Advertiser_Name',\n",
       "       'SF_Network_Placement_Name', 'Device Type', 'Creative Size',\n",
       "       'SF_Client_Goal', 'SF_Client_Goal_Details', 'Impressions',\n",
       "       'Clicks'], dtype=object)"
      ]
     },
     "execution_count": 23,
     "metadata": {},
     "output_type": "execute_result"
    }
   ],
   "source": [
    "colnames = np.array(df.iloc[0,:])\n",
    "colnames"
   ]
  },
  {
   "cell_type": "code",
   "execution_count": 25,
   "metadata": {},
   "outputs": [
    {
     "data": {
      "text/plain": [
       "Index(['Month', 'Weekday', 'SF_Advertiser_Name', 'SF_Network_Placement_Name',\n",
       "       'Device Type', 'Creative Size', 'SF_Client_Goal',\n",
       "       'SF_Client_Goal_Details', 'Impressions', 'Clicks'],\n",
       "      dtype='object')"
      ]
     },
     "execution_count": 25,
     "metadata": {},
     "output_type": "execute_result"
    }
   ],
   "source": [
    "df.columns = colnames\n",
    "df.columns"
   ]
  },
  {
   "cell_type": "code",
   "execution_count": 41,
   "metadata": {},
   "outputs": [
    {
     "data": {
      "text/html": [
       "<div>\n",
       "<style scoped>\n",
       "    .dataframe tbody tr th:only-of-type {\n",
       "        vertical-align: middle;\n",
       "    }\n",
       "\n",
       "    .dataframe tbody tr th {\n",
       "        vertical-align: top;\n",
       "    }\n",
       "\n",
       "    .dataframe thead th {\n",
       "        text-align: right;\n",
       "    }\n",
       "</style>\n",
       "<table border=\"1\" class=\"dataframe\">\n",
       "  <thead>\n",
       "    <tr style=\"text-align: right;\">\n",
       "      <th></th>\n",
       "      <th>Month</th>\n",
       "      <th>Weekday</th>\n",
       "      <th>SF_Advertiser_Name</th>\n",
       "      <th>SF_Network_Placement_Name</th>\n",
       "      <th>Device Type</th>\n",
       "      <th>Creative Size</th>\n",
       "      <th>SF_Client_Goal</th>\n",
       "      <th>SF_Client_Goal_Details</th>\n",
       "      <th>Impressions</th>\n",
       "      <th>Clicks</th>\n",
       "    </tr>\n",
       "  </thead>\n",
       "  <tbody>\n",
       "    <tr>\n",
       "      <th>0</th>\n",
       "      <td>Month</td>\n",
       "      <td>Weekday</td>\n",
       "      <td>SF_Advertiser_Name</td>\n",
       "      <td>SF_Network_Placement_Name</td>\n",
       "      <td>Device Type</td>\n",
       "      <td>Creative Size</td>\n",
       "      <td>SF_Client_Goal</td>\n",
       "      <td>SF_Client_Goal_Details</td>\n",
       "      <td>Impressions</td>\n",
       "      <td>Clicks</td>\n",
       "    </tr>\n",
       "    <tr>\n",
       "      <th>1</th>\n",
       "      <td>2019-09-01 00:00:00</td>\n",
       "      <td>Friday</td>\n",
       "      <td>Other</td>\n",
       "      <td>Other</td>\n",
       "      <td>Connected TV</td>\n",
       "      <td>1x1</td>\n",
       "      <td>Other</td>\n",
       "      <td>Other</td>\n",
       "      <td>22224</td>\n",
       "      <td>0</td>\n",
       "    </tr>\n",
       "    <tr>\n",
       "      <th>2</th>\n",
       "      <td>2019-09-01 00:00:00</td>\n",
       "      <td>Wednesday</td>\n",
       "      <td>Church &amp; Dwight</td>\n",
       "      <td>ENG:CAD-C&amp;D_RepHresh_2019-XaxRTB-Look-a-like_T...</td>\n",
       "      <td>Tablet</td>\n",
       "      <td>160x600</td>\n",
       "      <td>CPC</td>\n",
       "      <td>$5 - $7</td>\n",
       "      <td>2</td>\n",
       "      <td>0</td>\n",
       "    </tr>\n",
       "    <tr>\n",
       "      <th>3</th>\n",
       "      <td>2019-09-01 00:00:00</td>\n",
       "      <td>Sunday</td>\n",
       "      <td>Pfizer</td>\n",
       "      <td>ENG:CAD-Pfizer_Nexium_Advil_Base_Q3_2019-XaxRT...</td>\n",
       "      <td>Tablet</td>\n",
       "      <td>160x600</td>\n",
       "      <td>CTR</td>\n",
       "      <td>.06-.12%</td>\n",
       "      <td>115</td>\n",
       "      <td>0</td>\n",
       "    </tr>\n",
       "    <tr>\n",
       "      <th>4</th>\n",
       "      <td>2019-09-01 00:00:00</td>\n",
       "      <td>Wednesday</td>\n",
       "      <td>BEHR</td>\n",
       "      <td>ENG:CAD-Behr_2019_Labour_Day_Promo-XAXRTB_Perf...</td>\n",
       "      <td>Mobile</td>\n",
       "      <td>160x600</td>\n",
       "      <td>Viewability (GroupM)</td>\n",
       "      <td>100% vCPM</td>\n",
       "      <td>15</td>\n",
       "      <td>0</td>\n",
       "    </tr>\n",
       "  </tbody>\n",
       "</table>\n",
       "</div>"
      ],
      "text/plain": [
       "                 Month    Weekday  SF_Advertiser_Name  \\\n",
       "0                Month    Weekday  SF_Advertiser_Name   \n",
       "1  2019-09-01 00:00:00     Friday               Other   \n",
       "2  2019-09-01 00:00:00  Wednesday     Church & Dwight   \n",
       "3  2019-09-01 00:00:00     Sunday              Pfizer   \n",
       "4  2019-09-01 00:00:00  Wednesday                BEHR   \n",
       "\n",
       "                           SF_Network_Placement_Name   Device Type  \\\n",
       "0                          SF_Network_Placement_Name   Device Type   \n",
       "1                                              Other  Connected TV   \n",
       "2  ENG:CAD-C&D_RepHresh_2019-XaxRTB-Look-a-like_T...        Tablet   \n",
       "3  ENG:CAD-Pfizer_Nexium_Advil_Base_Q3_2019-XaxRT...        Tablet   \n",
       "4  ENG:CAD-Behr_2019_Labour_Day_Promo-XAXRTB_Perf...        Mobile   \n",
       "\n",
       "   Creative Size        SF_Client_Goal  SF_Client_Goal_Details  Impressions  \\\n",
       "0  Creative Size        SF_Client_Goal  SF_Client_Goal_Details  Impressions   \n",
       "1            1x1                 Other                   Other        22224   \n",
       "2        160x600                   CPC                 $5 - $7            2   \n",
       "3        160x600                   CTR                .06-.12%          115   \n",
       "4        160x600  Viewability (GroupM)               100% vCPM           15   \n",
       "\n",
       "   Clicks  \n",
       "0  Clicks  \n",
       "1       0  \n",
       "2       0  \n",
       "3       0  \n",
       "4       0  "
      ]
     },
     "execution_count": 41,
     "metadata": {},
     "output_type": "execute_result"
    }
   ],
   "source": [
    "df.head()"
   ]
  },
  {
   "cell_type": "code",
   "execution_count": 50,
   "metadata": {},
   "outputs": [],
   "source": [
    "df.drop(0,inplace = True)"
   ]
  },
  {
   "cell_type": "code",
   "execution_count": 42,
   "metadata": {},
   "outputs": [
    {
     "data": {
      "text/plain": [
       "Month                            0\n",
       "Weekday                          0\n",
       "SF_Advertiser_Name            2046\n",
       "SF_Network_Placement_Name     2046\n",
       "Device Type                    711\n",
       "Creative Size                16340\n",
       "SF_Client_Goal                2046\n",
       "SF_Client_Goal_Details        2046\n",
       "Impressions                      0\n",
       "Clicks                         210\n",
       "dtype: int64"
      ]
     },
     "execution_count": 42,
     "metadata": {},
     "output_type": "execute_result"
    }
   ],
   "source": [
    "df.replace('Other',np.nan, inplace = True)\n",
    "df.isnull().sum()"
   ]
  },
  {
   "cell_type": "code",
   "execution_count": 43,
   "metadata": {},
   "outputs": [],
   "source": [
    "df['Creative Size'].fillna('other',inplace = True)"
   ]
  },
  {
   "cell_type": "code",
   "execution_count": 44,
   "metadata": {},
   "outputs": [
    {
     "data": {
      "text/plain": [
       "(137933, 10)"
      ]
     },
     "execution_count": 44,
     "metadata": {},
     "output_type": "execute_result"
    }
   ],
   "source": [
    "df.shape"
   ]
  },
  {
   "cell_type": "code",
   "execution_count": 45,
   "metadata": {},
   "outputs": [],
   "source": [
    "df.dropna(inplace = True)"
   ]
  },
  {
   "cell_type": "code",
   "execution_count": 47,
   "metadata": {},
   "outputs": [
    {
     "data": {
      "text/plain": [
       "(134966, 10)"
      ]
     },
     "execution_count": 47,
     "metadata": {},
     "output_type": "execute_result"
    }
   ],
   "source": [
    "df.shape"
   ]
  },
  {
   "cell_type": "code",
   "execution_count": 48,
   "metadata": {},
   "outputs": [
    {
     "data": {
      "text/plain": [
       "CTR                       50003\n",
       "100% Completion Rate      24954\n",
       "Viewability (GroupM)      21468\n",
       "CPA                       21176\n",
       "Other (Please specify)     8657\n",
       "CPC                        5384\n",
       "On-Target % (DAR)          1414\n",
       "Unique Audience Reach       689\n",
       "Revenue / Conversions       617\n",
       "ROAS                        511\n",
       "Viewability (MRC)            92\n",
       "SF_Client_Goal                1\n",
       "Name: SF_Client_Goal, dtype: int64"
      ]
     },
     "execution_count": 48,
     "metadata": {},
     "output_type": "execute_result"
    }
   ],
   "source": [
    "df['SF_Client_Goal'].value_counts()"
   ]
  },
  {
   "cell_type": "code",
   "execution_count": 145,
   "metadata": {},
   "outputs": [],
   "source": [
    "data = df[df['SF_Client_Goal']=='CTR']"
   ]
  },
  {
   "cell_type": "markdown",
   "metadata": {},
   "source": [
    "# Creating the logistic function of client goal achievement"
   ]
  },
  {
   "cell_type": "code",
   "execution_count": 147,
   "metadata": {},
   "outputs": [],
   "source": [
    "data.to_csv(r\"C:\\Users\\adishree.b\\Documents\\practice datasets\\CTR_Analytics.csv\")"
   ]
  },
  {
   "cell_type": "code",
   "execution_count": 148,
   "metadata": {},
   "outputs": [],
   "source": [
    "# data['goal_extract'] = data['SF_Client_Goal_Details'].str.extract('.(.*)%')\n",
    "\n",
    "# extract values of %. \n",
    "# Extract max and min from between and '-'\n",
    "# Extract for lang(Eng and Fre) with if condition\n",
    "# Extract for different placements given"
   ]
  },
  {
   "cell_type": "code",
   "execution_count": 149,
   "metadata": {},
   "outputs": [],
   "source": [
    "extractor = np.array(data['SF_Client_Goal_Details'].value_counts().reset_index()['index'])"
   ]
  },
  {
   "cell_type": "code",
   "execution_count": 150,
   "metadata": {},
   "outputs": [],
   "source": [
    "extractor_val = np.array(['.20', '.10', '0.10', '0.06', '.10', '0.10','0.1','0.10', '.05', '0.06', '.04','.01', \n",
    "                         '0.08','.1', '0.1', '.04','0.02', '0.12', '.05%', '.04%', '0.07', '.06','.10', '0.02', \n",
    "                         '0.10','.1','0.04', '.04','.04','0.07', '0.10', '0.08', '.12','0.08', '.13', '.04','0.10'])\n",
    "extractor_val = extractor_val.astype('str')"
   ]
  },
  {
   "cell_type": "code",
   "execution_count": 151,
   "metadata": {},
   "outputs": [],
   "source": [
    "    #for i in extractor:\n",
    "    #    n=0\n",
    "    #    data['extracted_goal'] = data['SF_Client_Goal_Details'].str.replace(i,extractor_val[n])\n",
    "    #    n=n+1"
   ]
  },
  {
   "cell_type": "markdown",
   "metadata": {},
   "source": [
    "# After changing in excel"
   ]
  },
  {
   "cell_type": "code",
   "execution_count": 161,
   "metadata": {},
   "outputs": [],
   "source": [
    "df1 = pd.read_csv(r\"C:\\Users\\adishree.b\\Documents\\practice datasets\\CTR_Analytics_updated.csv\")"
   ]
  },
  {
   "cell_type": "code",
   "execution_count": 164,
   "metadata": {},
   "outputs": [
    {
     "data": {
      "text/plain": [
       "0.10    23547\n",
       "0.06     7790\n",
       "0.04     4887\n",
       "0.20     4722\n",
       "0.05     2751\n",
       "0.08     2198\n",
       "0.02     1557\n",
       "0.12     1284\n",
       "0.07     1156\n",
       "0.13       83\n",
       "0.25       28\n",
       "Name: SF_Client_Goal_Details, dtype: int64"
      ]
     },
     "execution_count": 164,
     "metadata": {},
     "output_type": "execute_result"
    }
   ],
   "source": [
    "df1['SF_Client_Goal_Details'].value_counts()"
   ]
  },
  {
   "cell_type": "code",
   "execution_count": 163,
   "metadata": {},
   "outputs": [],
   "source": [
    "df1['SF_Client_Goal_Details']=df1['SF_Client_Goal_Details'].astype('float')"
   ]
  },
  {
   "cell_type": "code",
   "execution_count": 173,
   "metadata": {},
   "outputs": [],
   "source": [
    "df2 = df1[df1['Impressions']>999]"
   ]
  },
  {
   "cell_type": "code",
   "execution_count": 167,
   "metadata": {},
   "outputs": [],
   "source": [
    "df1['CTR'] = df1['Clicks'] / df1['Impressions']"
   ]
  },
  {
   "cell_type": "code",
   "execution_count": 169,
   "metadata": {},
   "outputs": [],
   "source": [
    "df1['achieved']=np.where(df1['CTR']>=df1['SF_Client_Goal_Details'],1,0)"
   ]
  },
  {
   "cell_type": "code",
   "execution_count": 174,
   "metadata": {},
   "outputs": [
    {
     "data": {
      "text/plain": [
       "0    23719\n",
       "Name: achieved, dtype: int64"
      ]
     },
     "execution_count": 174,
     "metadata": {},
     "output_type": "execute_result"
    }
   ],
   "source": [
    "df2['achieved'].value_counts()"
   ]
  },
  {
   "cell_type": "markdown",
   "metadata": {},
   "source": [
    "# Using linear regression"
   ]
  },
  {
   "cell_type": "code",
   "execution_count": 175,
   "metadata": {},
   "outputs": [
    {
     "data": {
      "text/plain": [
       "Month                        0\n",
       "Weekday                      0\n",
       "SF_Advertiser_Name           0\n",
       "SF_Network_Placement_Name    0\n",
       "Device Type                  0\n",
       "Creative Size                0\n",
       "SF_Client_Goal               0\n",
       "SF_Client_Goal_Details       0\n",
       "Impressions                  0\n",
       "Clicks                       0\n",
       "dtype: int64"
      ]
     },
     "execution_count": 175,
     "metadata": {},
     "output_type": "execute_result"
    }
   ],
   "source": [
    "df.isnull().sum()"
   ]
  },
  {
   "cell_type": "code",
   "execution_count": 181,
   "metadata": {},
   "outputs": [
    {
     "data": {
      "text/plain": [
       "Index(['Month', 'Weekday', 'SF_Advertiser_Name', 'SF_Network_Placement_Name',\n",
       "       'Device Type', 'Creative Size', 'SF_Client_Goal',\n",
       "       'SF_Client_Goal_Details', 'Impressions', 'Clicks'],\n",
       "      dtype='object')"
      ]
     },
     "execution_count": 181,
     "metadata": {},
     "output_type": "execute_result"
    }
   ],
   "source": [
    "df.columns"
   ]
  },
  {
   "cell_type": "code",
   "execution_count": 182,
   "metadata": {},
   "outputs": [],
   "source": [
    "df['Impressions']=df['Impressions'].astype('int')\n",
    "df['Clicks']=df['Clicks'].astype('int')"
   ]
  },
  {
   "cell_type": "code",
   "execution_count": 200,
   "metadata": {},
   "outputs": [
    {
     "data": {
      "text/html": [
       "<div>\n",
       "<style scoped>\n",
       "    .dataframe tbody tr th:only-of-type {\n",
       "        vertical-align: middle;\n",
       "    }\n",
       "\n",
       "    .dataframe tbody tr th {\n",
       "        vertical-align: top;\n",
       "    }\n",
       "\n",
       "    .dataframe thead th {\n",
       "        text-align: right;\n",
       "    }\n",
       "</style>\n",
       "<table border=\"1\" class=\"dataframe\">\n",
       "  <thead>\n",
       "    <tr style=\"text-align: right;\">\n",
       "      <th></th>\n",
       "      <th>Month</th>\n",
       "      <th>Weekday</th>\n",
       "      <th>SF_Advertiser_Name</th>\n",
       "      <th>Device Type</th>\n",
       "      <th>Creative Size</th>\n",
       "      <th>Impressions</th>\n",
       "      <th>Clicks</th>\n",
       "    </tr>\n",
       "  </thead>\n",
       "  <tbody>\n",
       "    <tr>\n",
       "      <th>2</th>\n",
       "      <td>9</td>\n",
       "      <td>Wednesday</td>\n",
       "      <td>Church &amp; Dwight</td>\n",
       "      <td>Tablet</td>\n",
       "      <td>160x600</td>\n",
       "      <td>2</td>\n",
       "      <td>0</td>\n",
       "    </tr>\n",
       "    <tr>\n",
       "      <th>3</th>\n",
       "      <td>9</td>\n",
       "      <td>Sunday</td>\n",
       "      <td>Pfizer</td>\n",
       "      <td>Tablet</td>\n",
       "      <td>160x600</td>\n",
       "      <td>115</td>\n",
       "      <td>0</td>\n",
       "    </tr>\n",
       "  </tbody>\n",
       "</table>\n",
       "</div>"
      ],
      "text/plain": [
       "   Month    Weekday SF_Advertiser_Name Device Type Creative Size  Impressions  \\\n",
       "2      9  Wednesday    Church & Dwight      Tablet       160x600            2   \n",
       "3      9     Sunday             Pfizer      Tablet       160x600          115   \n",
       "\n",
       "   Clicks  \n",
       "2       0  \n",
       "3       0  "
      ]
     },
     "execution_count": 200,
     "metadata": {},
     "output_type": "execute_result"
    }
   ],
   "source": [
    "df.drop(columns = ['SF_Client_Goal','SF_Client_Goal_Details','SF_Network_Placement_Name'],axis = 1,inplace=True)\n",
    "df.head(2)"
   ]
  },
  {
   "cell_type": "code",
   "execution_count": 195,
   "metadata": {},
   "outputs": [
    {
     "data": {
      "text/html": [
       "<div>\n",
       "<style scoped>\n",
       "    .dataframe tbody tr th:only-of-type {\n",
       "        vertical-align: middle;\n",
       "    }\n",
       "\n",
       "    .dataframe tbody tr th {\n",
       "        vertical-align: top;\n",
       "    }\n",
       "\n",
       "    .dataframe thead th {\n",
       "        text-align: right;\n",
       "    }\n",
       "</style>\n",
       "<table border=\"1\" class=\"dataframe\">\n",
       "  <thead>\n",
       "    <tr style=\"text-align: right;\">\n",
       "      <th></th>\n",
       "      <th>Month</th>\n",
       "      <th>Weekday</th>\n",
       "      <th>SF_Advertiser_Name</th>\n",
       "      <th>SF_Network_Placement_Name</th>\n",
       "      <th>Device Type</th>\n",
       "      <th>Creative Size</th>\n",
       "      <th>SF_Client_Goal</th>\n",
       "      <th>SF_Client_Goal_Details</th>\n",
       "      <th>Impressions</th>\n",
       "      <th>Clicks</th>\n",
       "    </tr>\n",
       "  </thead>\n",
       "  <tbody>\n",
       "    <tr>\n",
       "      <th>2</th>\n",
       "      <td>9</td>\n",
       "      <td>Wednesday</td>\n",
       "      <td>Church &amp; Dwight</td>\n",
       "      <td>ENG:CAD-C&amp;D_RepHresh_2019-XaxRTB-Look-a-like_T...</td>\n",
       "      <td>Tablet</td>\n",
       "      <td>160x600</td>\n",
       "      <td>CPC</td>\n",
       "      <td>$5 - $7</td>\n",
       "      <td>2</td>\n",
       "      <td>0</td>\n",
       "    </tr>\n",
       "    <tr>\n",
       "      <th>3</th>\n",
       "      <td>9</td>\n",
       "      <td>Sunday</td>\n",
       "      <td>Pfizer</td>\n",
       "      <td>ENG:CAD-Pfizer_Nexium_Advil_Base_Q3_2019-XaxRT...</td>\n",
       "      <td>Tablet</td>\n",
       "      <td>160x600</td>\n",
       "      <td>CTR</td>\n",
       "      <td>.06-.12%</td>\n",
       "      <td>115</td>\n",
       "      <td>0</td>\n",
       "    </tr>\n",
       "  </tbody>\n",
       "</table>\n",
       "</div>"
      ],
      "text/plain": [
       "   Month    Weekday SF_Advertiser_Name  \\\n",
       "2      9  Wednesday    Church & Dwight   \n",
       "3      9     Sunday             Pfizer   \n",
       "\n",
       "                           SF_Network_Placement_Name Device Type  \\\n",
       "2  ENG:CAD-C&D_RepHresh_2019-XaxRTB-Look-a-like_T...      Tablet   \n",
       "3  ENG:CAD-Pfizer_Nexium_Advil_Base_Q3_2019-XaxRT...      Tablet   \n",
       "\n",
       "  Creative Size SF_Client_Goal SF_Client_Goal_Details  Impressions  Clicks  \n",
       "2       160x600            CPC                $5 - $7            2       0  \n",
       "3       160x600            CTR               .06-.12%          115       0  "
      ]
     },
     "execution_count": 195,
     "metadata": {},
     "output_type": "execute_result"
    }
   ],
   "source": [
    "df['Month']=pd.to_datetime(df['Month']).dt.month\n",
    "df.head(2)"
   ]
  },
  {
   "cell_type": "code",
   "execution_count": 202,
   "metadata": {},
   "outputs": [],
   "source": [
    "df_a = df[df['Impressions']>499]"
   ]
  },
  {
   "cell_type": "code",
   "execution_count": 204,
   "metadata": {},
   "outputs": [
    {
     "name": "stderr",
     "output_type": "stream",
     "text": [
      "C:\\Users\\adishree.b\\AppData\\Local\\Continuum\\anaconda3\\envs\\python3-TF2.0\\lib\\site-packages\\ipykernel_launcher.py:1: SettingWithCopyWarning: \n",
      "A value is trying to be set on a copy of a slice from a DataFrame.\n",
      "Try using .loc[row_indexer,col_indexer] = value instead\n",
      "\n",
      "See the caveats in the documentation: http://pandas.pydata.org/pandas-docs/stable/user_guide/indexing.html#returning-a-view-versus-a-copy\n",
      "  \"\"\"Entry point for launching an IPython kernel.\n"
     ]
    }
   ],
   "source": [
    "df_a['CTR'] = df_a['Clicks'] / df_a['Impressions']"
   ]
  },
  {
   "cell_type": "code",
   "execution_count": 212,
   "metadata": {},
   "outputs": [
    {
     "data": {
      "text/html": [
       "<div>\n",
       "<style scoped>\n",
       "    .dataframe tbody tr th:only-of-type {\n",
       "        vertical-align: middle;\n",
       "    }\n",
       "\n",
       "    .dataframe tbody tr th {\n",
       "        vertical-align: top;\n",
       "    }\n",
       "\n",
       "    .dataframe thead th {\n",
       "        text-align: right;\n",
       "    }\n",
       "</style>\n",
       "<table border=\"1\" class=\"dataframe\">\n",
       "  <thead>\n",
       "    <tr style=\"text-align: right;\">\n",
       "      <th></th>\n",
       "      <th>Month</th>\n",
       "      <th>Weekday</th>\n",
       "      <th>SF_Advertiser_Name</th>\n",
       "      <th>Device Type</th>\n",
       "      <th>Creative Size</th>\n",
       "      <th>Impressions</th>\n",
       "      <th>Clicks</th>\n",
       "      <th>CTR</th>\n",
       "    </tr>\n",
       "  </thead>\n",
       "  <tbody>\n",
       "    <tr>\n",
       "      <th>count</th>\n",
       "      <td>74146.000000</td>\n",
       "      <td>74146</td>\n",
       "      <td>74146</td>\n",
       "      <td>74146</td>\n",
       "      <td>74146</td>\n",
       "      <td>7.414600e+04</td>\n",
       "      <td>74146.000000</td>\n",
       "      <td>74146.000000</td>\n",
       "    </tr>\n",
       "    <tr>\n",
       "      <th>unique</th>\n",
       "      <td>NaN</td>\n",
       "      <td>7</td>\n",
       "      <td>26</td>\n",
       "      <td>11</td>\n",
       "      <td>10</td>\n",
       "      <td>NaN</td>\n",
       "      <td>NaN</td>\n",
       "      <td>NaN</td>\n",
       "    </tr>\n",
       "    <tr>\n",
       "      <th>top</th>\n",
       "      <td>NaN</td>\n",
       "      <td>Tuesday</td>\n",
       "      <td>Church &amp; Dwight</td>\n",
       "      <td>Desktop</td>\n",
       "      <td>300x250</td>\n",
       "      <td>NaN</td>\n",
       "      <td>NaN</td>\n",
       "      <td>NaN</td>\n",
       "    </tr>\n",
       "    <tr>\n",
       "      <th>freq</th>\n",
       "      <td>NaN</td>\n",
       "      <td>10667</td>\n",
       "      <td>15058</td>\n",
       "      <td>26750</td>\n",
       "      <td>17487</td>\n",
       "      <td>NaN</td>\n",
       "      <td>NaN</td>\n",
       "      <td>NaN</td>\n",
       "    </tr>\n",
       "    <tr>\n",
       "      <th>mean</th>\n",
       "      <td>6.216613</td>\n",
       "      <td>NaN</td>\n",
       "      <td>NaN</td>\n",
       "      <td>NaN</td>\n",
       "      <td>NaN</td>\n",
       "      <td>2.435774e+04</td>\n",
       "      <td>47.943288</td>\n",
       "      <td>0.001856</td>\n",
       "    </tr>\n",
       "    <tr>\n",
       "      <th>std</th>\n",
       "      <td>2.922862</td>\n",
       "      <td>NaN</td>\n",
       "      <td>NaN</td>\n",
       "      <td>NaN</td>\n",
       "      <td>NaN</td>\n",
       "      <td>6.109000e+04</td>\n",
       "      <td>203.804627</td>\n",
       "      <td>0.003355</td>\n",
       "    </tr>\n",
       "    <tr>\n",
       "      <th>min</th>\n",
       "      <td>1.000000</td>\n",
       "      <td>NaN</td>\n",
       "      <td>NaN</td>\n",
       "      <td>NaN</td>\n",
       "      <td>NaN</td>\n",
       "      <td>5.000000e+02</td>\n",
       "      <td>0.000000</td>\n",
       "      <td>0.000000</td>\n",
       "    </tr>\n",
       "    <tr>\n",
       "      <th>25%</th>\n",
       "      <td>4.000000</td>\n",
       "      <td>NaN</td>\n",
       "      <td>NaN</td>\n",
       "      <td>NaN</td>\n",
       "      <td>NaN</td>\n",
       "      <td>1.983250e+03</td>\n",
       "      <td>1.000000</td>\n",
       "      <td>0.000226</td>\n",
       "    </tr>\n",
       "    <tr>\n",
       "      <th>50%</th>\n",
       "      <td>6.000000</td>\n",
       "      <td>NaN</td>\n",
       "      <td>NaN</td>\n",
       "      <td>NaN</td>\n",
       "      <td>NaN</td>\n",
       "      <td>6.350000e+03</td>\n",
       "      <td>5.000000</td>\n",
       "      <td>0.000776</td>\n",
       "    </tr>\n",
       "    <tr>\n",
       "      <th>75%</th>\n",
       "      <td>8.000000</td>\n",
       "      <td>NaN</td>\n",
       "      <td>NaN</td>\n",
       "      <td>NaN</td>\n",
       "      <td>NaN</td>\n",
       "      <td>2.103175e+04</td>\n",
       "      <td>21.000000</td>\n",
       "      <td>0.001910</td>\n",
       "    </tr>\n",
       "    <tr>\n",
       "      <th>max</th>\n",
       "      <td>12.000000</td>\n",
       "      <td>NaN</td>\n",
       "      <td>NaN</td>\n",
       "      <td>NaN</td>\n",
       "      <td>NaN</td>\n",
       "      <td>1.865206e+06</td>\n",
       "      <td>11670.000000</td>\n",
       "      <td>0.027508</td>\n",
       "    </tr>\n",
       "  </tbody>\n",
       "</table>\n",
       "</div>"
      ],
      "text/plain": [
       "               Month  Weekday SF_Advertiser_Name Device Type Creative Size  \\\n",
       "count   74146.000000    74146              74146       74146         74146   \n",
       "unique           NaN        7                 26          11            10   \n",
       "top              NaN  Tuesday    Church & Dwight     Desktop       300x250   \n",
       "freq             NaN    10667              15058       26750         17487   \n",
       "mean        6.216613      NaN                NaN         NaN           NaN   \n",
       "std         2.922862      NaN                NaN         NaN           NaN   \n",
       "min         1.000000      NaN                NaN         NaN           NaN   \n",
       "25%         4.000000      NaN                NaN         NaN           NaN   \n",
       "50%         6.000000      NaN                NaN         NaN           NaN   \n",
       "75%         8.000000      NaN                NaN         NaN           NaN   \n",
       "max        12.000000      NaN                NaN         NaN           NaN   \n",
       "\n",
       "         Impressions        Clicks           CTR  \n",
       "count   7.414600e+04  74146.000000  74146.000000  \n",
       "unique           NaN           NaN           NaN  \n",
       "top              NaN           NaN           NaN  \n",
       "freq             NaN           NaN           NaN  \n",
       "mean    2.435774e+04     47.943288      0.001856  \n",
       "std     6.109000e+04    203.804627      0.003355  \n",
       "min     5.000000e+02      0.000000      0.000000  \n",
       "25%     1.983250e+03      1.000000      0.000226  \n",
       "50%     6.350000e+03      5.000000      0.000776  \n",
       "75%     2.103175e+04     21.000000      0.001910  \n",
       "max     1.865206e+06  11670.000000      0.027508  "
      ]
     },
     "execution_count": 212,
     "metadata": {},
     "output_type": "execute_result"
    }
   ],
   "source": [
    "q99 = df_a['CTR'].quantile(.975)\n",
    "q1  = df_a['CTR'].quantile(.025)\n",
    "\n",
    "df1 = df_a[df_a['CTR']<q99]\n",
    "df1.describe(include='all')"
   ]
  },
  {
   "cell_type": "code",
   "execution_count": 213,
   "metadata": {},
   "outputs": [
    {
     "data": {
      "text/plain": [
       "<matplotlib.axes._subplots.AxesSubplot at 0x19476c41f98>"
      ]
     },
     "execution_count": 213,
     "metadata": {},
     "output_type": "execute_result"
    },
    {
     "data": {
      "image/png": "[encoded data removed]",
      "text/plain": [
       "<Figure size 432x288 with 1 Axes>"
      ]
     },
     "metadata": {
      "needs_background": "light"
     },
     "output_type": "display_data"
    }
   ],
   "source": [
    "import seaborn as sns\n",
    "%matplotlib inline\n",
    "\n",
    "sns.distplot(df1['CTR'])"
   ]
  },
  {
   "cell_type": "code",
   "execution_count": 215,
   "metadata": {},
   "outputs": [
    {
     "data": {
      "text/plain": [
       "Index(['Month', 'Weekday', 'SF_Advertiser_Name', 'Device Type',\n",
       "       'Creative Size', 'Impressions', 'Clicks', 'CTR'],\n",
       "      dtype='object')"
      ]
     },
     "execution_count": 215,
     "metadata": {},
     "output_type": "execute_result"
    }
   ],
   "source": [
    "df1.columns"
   ]
  },
  {
   "cell_type": "code",
   "execution_count": 218,
   "metadata": {},
   "outputs": [
    {
     "name": "stderr",
     "output_type": "stream",
     "text": [
      "C:\\Users\\adishree.b\\AppData\\Local\\Continuum\\anaconda3\\envs\\python3-TF2.0\\lib\\site-packages\\ipykernel_launcher.py:1: SettingWithCopyWarning: \n",
      "A value is trying to be set on a copy of a slice from a DataFrame.\n",
      "Try using .loc[row_indexer,col_indexer] = value instead\n",
      "\n",
      "See the caveats in the documentation: http://pandas.pydata.org/pandas-docs/stable/user_guide/indexing.html#returning-a-view-versus-a-copy\n",
      "  \"\"\"Entry point for launching an IPython kernel.\n"
     ]
    }
   ],
   "source": [
    "df1['Month']=df1['Month'].astype('str')"
   ]
  },
  {
   "cell_type": "code",
   "execution_count": 220,
   "metadata": {},
   "outputs": [],
   "source": [
    "variables = df1[['Month', 'Weekday', 'SF_Advertiser_Name', 'Device Type',\n",
    "       'Creative Size']]\n",
    "df_dum = pd.get_dummies(variables, drop_first=True)"
   ]
  },
  {
   "cell_type": "code",
   "execution_count": 222,
   "metadata": {},
   "outputs": [],
   "source": [
    "df_dum[['Impressions','Clicks','CTR']] = df1[['Impressions','Clicks','CTR']]"
   ]
  },
  {
   "cell_type": "code",
   "execution_count": 233,
   "metadata": {},
   "outputs": [],
   "source": [
    "df_dum = df_dum.astype(float)"
   ]
  },
  {
   "cell_type": "code",
   "execution_count": 234,
   "metadata": {},
   "outputs": [],
   "source": [
    "from sklearn.ensemble import RandomForestRegressor\n",
    "from sklearn.metrics import mean_absolute_error\n",
    "from sklearn.model_selection import train_test_split\n",
    "import matplotlib.pyplot as plt\n",
    "import numpy as np\n",
    "%matplotlib inline"
   ]
  },
  {
   "cell_type": "code",
   "execution_count": 235,
   "metadata": {},
   "outputs": [],
   "source": [
    "melb_target = df_dum['CTR']\n",
    "new_target = df1['Impressions']\n",
    "melb_predictors = df_dum.drop(['CTR','Clicks','Impressions'], axis=1)"
   ]
  },
  {
   "cell_type": "code",
   "execution_count": null,
   "metadata": {},
   "outputs": [],
   "source": []
  },
  {
   "cell_type": "code",
   "execution_count": 236,
   "metadata": {},
   "outputs": [
    {
     "name": "stdout",
     "output_type": "stream",
     "text": [
      "X_train : (51902, 61)\n",
      "X_test : (22244, 61)\n",
      "y_train : (51902,)\n",
      "y_test : (22244,)\n"
     ]
    }
   ],
   "source": [
    "from sklearn.ensemble import RandomForestRegressor\n",
    "from sklearn.metrics import mean_absolute_error\n",
    "from sklearn.model_selection import train_test_split\n",
    "\n",
    "X_train, X_test, y_train, y_test = train_test_split(melb_predictors,new_target,\n",
    "                                                    train_size=0.7, \n",
    "                                                    test_size=0.3, \n",
    "                                                    random_state=1)\n",
    "\n",
    "print(\"X_train : \" + str(X_train.shape))\n",
    "print(\"X_test : \" + str(X_test.shape))\n",
    "print(\"y_train : \" + str(y_train.shape))\n",
    "print(\"y_test : \" + str(y_test.shape))"
   ]
  },
  {
   "cell_type": "code",
   "execution_count": 237,
   "metadata": {},
   "outputs": [],
   "source": [
    "import tensorflow as tf\n",
    "\n",
    "generated_inputs = melb_predictors\n",
    "\n",
    "generated_targets = new_target\n",
    "\n",
    "# save into an npz file called \"TF_intro\"\n",
    "np.savez('TF_intro', inputs=generated_inputs, targets=generated_targets)"
   ]
  },
  {
   "cell_type": "code",
   "execution_count": 238,
   "metadata": {},
   "outputs": [],
   "source": [
    "# Load the training data from the NPZ\n",
    "training_data = np.load('TF_intro.npz')"
   ]
  },
  {
   "cell_type": "code",
   "execution_count": 239,
   "metadata": {},
   "outputs": [
    {
     "data": {
      "text/plain": [
       "(74146, 61)"
      ]
     },
     "execution_count": 239,
     "metadata": {},
     "output_type": "execute_result"
    }
   ],
   "source": [
    "generated_inputs.shape"
   ]
  },
  {
   "cell_type": "code",
   "execution_count": 240,
   "metadata": {},
   "outputs": [
    {
     "name": "stdout",
     "output_type": "stream",
     "text": [
      "Epoch 1/20\n",
      "74146/74146 - 4s - loss: 3344685994.6764\n",
      "Epoch 2/20\n",
      "74146/74146 - 3s - loss: 3258405303.3736\n",
      "Epoch 3/20\n",
      "74146/74146 - 4s - loss: 3241929217.8377\n",
      "Epoch 4/20\n",
      "74146/74146 - 4s - loss: 3231916917.3693\n",
      "Epoch 5/20\n",
      "74146/74146 - 4s - loss: 3227585623.4564\n",
      "Epoch 6/20\n",
      "74146/74146 - 3s - loss: 3221384608.5412\n",
      "Epoch 7/20\n",
      "74146/74146 - 4s - loss: 3217549737.5164\n",
      "Epoch 8/20\n",
      "74146/74146 - 4s - loss: 3212800104.0841\n",
      "Epoch 9/20\n",
      "74146/74146 - 3s - loss: 3211048165.5855\n",
      "Epoch 10/20\n",
      "74146/74146 - 4s - loss: 3206509425.4143\n",
      "Epoch 11/20\n",
      "74146/74146 - 4s - loss: 3204054230.7741\n",
      "Epoch 12/20\n",
      "74146/74146 - 4s - loss: 3202201276.3551\n",
      "Epoch 13/20\n",
      "74146/74146 - 3s - loss: 3200736857.7464\n",
      "Epoch 14/20\n",
      "74146/74146 - 4s - loss: 3198773581.9470\n",
      "Epoch 15/20\n",
      "74146/74146 - 4s - loss: 3197385957.5078\n",
      "Epoch 16/20\n",
      "74146/74146 - 4s - loss: 3196924443.1413\n",
      "Epoch 17/20\n",
      "74146/74146 - 4s - loss: 3192771455.1249\n",
      "Epoch 18/20\n",
      "74146/74146 - 4s - loss: 3194187387.2657\n",
      "Epoch 19/20\n",
      "74146/74146 - 4s - loss: 3191409898.7800\n",
      "Epoch 20/20\n",
      "74146/74146 - 3s - loss: 3191986643.7163\n"
     ]
    },
    {
     "data": {
      "text/plain": [
       "<tensorflow.python.keras.callbacks.History at 0x1947d9b70f0>"
      ]
     },
     "execution_count": 240,
     "metadata": {},
     "output_type": "execute_result"
    }
   ],
   "source": [
    "# Declare a variable where we will store the input size of our model\n",
    "# It should be equal to the number of variables you have\n",
    "input_size = 61\n",
    "# Declare the output size of the model\n",
    "# It should be equal to the number of outputs you've got (for regressions that's usually 1)\n",
    "output_size = 1\n",
    "\n",
    "# Outline the model\n",
    "# We lay out the model in 'Sequential'\n",
    "# Note that there are no calculations involved - we are just describing our network\n",
    "model = tf.keras.Sequential([\n",
    "                            # Each 'layer' is listed here\n",
    "                            # The method 'Dense' indicates, our mathematical operation to be (xw + b)\n",
    "                            tf.keras.layers.Dense(output_size,\n",
    "                                                 # there are extra arguments you can include to customize your model\n",
    "                                                 # in our case we are just trying to create a solution that is \n",
    "                                                 # as close as possible to our NumPy model\n",
    "                                                 kernel_initializer=tf.random_uniform_initializer(minval=0, maxval=0.02),\n",
    "                                                 bias_initializer=tf.random_uniform_initializer(minval=0, maxval=0.02)\n",
    "                                                 )\n",
    "                            ])\n",
    "\n",
    "# We can also define a custom optimizer, where we can specify the learning rate\n",
    "custom_optimizer = tf.keras.optimizers.SGD(learning_rate=0.02)\n",
    "# Note that sometimes you may also need a custom loss function \n",
    "# That's much harder to implement and won't be covered in this course though\n",
    "\n",
    "# 'compile' is the place where you select and indicate the optimizers and the loss\n",
    "model.compile(optimizer=custom_optimizer, loss='mean_squared_error')\n",
    "\n",
    "# finally we fit the model, indicating the inputs and targets\n",
    "# if they are not otherwise specified the number of epochs will be 1 (a single epoch of training), \n",
    "# so the number of epochs is 'kind of' mandatory, too\n",
    "# we can play around with verbose; we prefer verbose=2\n",
    "model.fit(training_data['inputs'], training_data['targets'], epochs=20, verbose=2)"
   ]
  },
  {
   "cell_type": "code",
   "execution_count": 243,
   "metadata": {},
   "outputs": [
    {
     "data": {
      "text/plain": [
       "array([[  6356.366  ],\n",
       "       [ 11619.985  ],\n",
       "       [ 19160.232  ],\n",
       "       [  -189.58571],\n",
       "       [  3914.1106 ],\n",
       "       [  5257.47   ],\n",
       "       [  4962.7666 ],\n",
       "       [  2794.9377 ],\n",
       "       [  2806.3774 ],\n",
       "       [  5973.1904 ],\n",
       "       [  -320.58447],\n",
       "       [  -597.3627 ],\n",
       "       [ -1088.0234 ],\n",
       "       [ -1428.8434 ],\n",
       "       [  1683.575  ],\n",
       "       [ -2692.269  ],\n",
       "       [  -859.37915],\n",
       "       [-22283.516  ],\n",
       "       [-69482.53   ],\n",
       "       [-28352.758  ],\n",
       "       [-39355.57   ],\n",
       "       [-42820.625  ],\n",
       "       [ -8849.919  ],\n",
       "       [ 41946.324  ],\n",
       "       [-47814.94   ],\n",
       "       [-57581.85   ],\n",
       "       [ 16934.422  ],\n",
       "       [-38800.02   ],\n",
       "       [-41086.93   ],\n",
       "       [-45447.023  ],\n",
       "       [-36796.863  ],\n",
       "       [ 12034.225  ],\n",
       "       [-24666.96   ],\n",
       "       [-34341.55   ],\n",
       "       [-48251.836  ],\n",
       "       [-17919.238  ],\n",
       "       [-34070.12   ],\n",
       "       [-41308.668  ],\n",
       "       [ -1280.9327 ],\n",
       "       [189224.7    ],\n",
       "       [-28531.521  ],\n",
       "       [-17015.025  ],\n",
       "       [-21073.93   ],\n",
       "       [  9312.702  ],\n",
       "       [ 13357.301  ],\n",
       "       [   861.91724],\n",
       "       [ -6728.055  ],\n",
       "       [ 10086.153  ],\n",
       "       [  4111.0386 ],\n",
       "       [ -6243.0884 ],\n",
       "       [ -8283.071  ],\n",
       "       [ 35914.523  ],\n",
       "       [ 16770.709  ],\n",
       "       [ 16989.203  ],\n",
       "       [ -1737.7267 ],\n",
       "       [ -6031.8745 ],\n",
       "       [ 17479.814  ],\n",
       "       [ 12007.258  ],\n",
       "       [ 10364.502  ],\n",
       "       [-26397.896  ],\n",
       "       [ 16214.886  ]], dtype=float32)"
      ]
     },
     "execution_count": 243,
     "metadata": {},
     "output_type": "execute_result"
    }
   ],
   "source": [
    "# We can save the weights and biases in separate variables for easier examination\n",
    "# Note that there can be hundreds or thousands of them!\n",
    "weights = model.layers[0].get_weights()[0]\n",
    "weights"
   ]
  },
  {
   "cell_type": "code",
   "execution_count": 244,
   "metadata": {},
   "outputs": [
    {
     "data": {
      "text/plain": [
       "array([29738.404], dtype=float32)"
      ]
     },
     "execution_count": 244,
     "metadata": {},
     "output_type": "execute_result"
    }
   ],
   "source": [
    "\n",
    "# We can save the weights and biases in separate variables for easier examination\n",
    "# Note that there can be hundreds or thousands of them!\n",
    "bias = model.layers[0].get_weights()[1]\n",
    "bias"
   ]
  },
  {
   "cell_type": "code",
   "execution_count": 255,
   "metadata": {},
   "outputs": [],
   "source": [
    "# We can predict new values in order to actually make use of the model\n",
    "# Sometimes it is useful to round the values to be able to read the output\n",
    "# Usually we use this method on NEW DATA, rather than our original training data\n",
    "output_value = model.predict_on_batch(training_data['inputs'])"
   ]
  },
  {
   "cell_type": "code",
   "execution_count": 256,
   "metadata": {},
   "outputs": [
    {
     "ename": "MemoryError",
     "evalue": "",
     "output_type": "error",
     "traceback": [
      "\u001b[1;31m---------------------------------------------------------------------------\u001b[0m",
      "\u001b[1;31mMemoryError\u001b[0m                               Traceback (most recent call last)",
      "\u001b[1;32m<ipython-input-256-33d9feacd061>\u001b[0m in \u001b[0;36m<module>\u001b[1;34m\u001b[0m\n\u001b[1;32m----> 1\u001b[1;33m \u001b[0mmse\u001b[0m \u001b[1;33m=\u001b[0m \u001b[0mtf\u001b[0m\u001b[1;33m.\u001b[0m\u001b[0mreduce_mean\u001b[0m\u001b[1;33m(\u001b[0m\u001b[0mtf\u001b[0m\u001b[1;33m.\u001b[0m\u001b[0msquare\u001b[0m\u001b[1;33m(\u001b[0m\u001b[0moutput_value\u001b[0m \u001b[1;33m-\u001b[0m \u001b[0mtraining_data\u001b[0m\u001b[1;33m[\u001b[0m\u001b[1;34m'targets'\u001b[0m\u001b[1;33m]\u001b[0m\u001b[1;33m)\u001b[0m\u001b[1;33m)\u001b[0m\u001b[1;33m\u001b[0m\u001b[1;33m\u001b[0m\u001b[0m\n\u001b[0m",
      "\u001b[1;31mMemoryError\u001b[0m: "
     ]
    }
   ],
   "source": [
    "mse = tf.reduce_mean(tf.square(output_value - training_data['targets']))"
   ]
  },
  {
   "cell_type": "code",
   "execution_count": null,
   "metadata": {},
   "outputs": [],
   "source": [
    "rmse = np.sqrt(mse)\n",
    "rmse"
   ]
  },
  {
   "cell_type": "code",
   "execution_count": 251,
   "metadata": {},
   "outputs": [
    {
     "data": {
      "text/plain": [
       "(74146,)"
      ]
     },
     "execution_count": 251,
     "metadata": {},
     "output_type": "execute_result"
    }
   ],
   "source": [
    "training_data['targets'].shape"
   ]
  },
  {
   "cell_type": "code",
   "execution_count": 252,
   "metadata": {},
   "outputs": [
    {
     "data": {
      "text/plain": [
       "(74146, 1)"
      ]
     },
     "execution_count": 252,
     "metadata": {},
     "output_type": "execute_result"
    }
   ],
   "source": [
    "output_value.shape"
   ]
  },
  {
   "cell_type": "code",
   "execution_count": 254,
   "metadata": {},
   "outputs": [
    {
     "data": {
      "text/plain": [
       "numpy.ndarray"
      ]
     },
     "execution_count": 254,
     "metadata": {},
     "output_type": "execute_result"
    }
   ],
   "source": [
    "type(training_data['targets'])"
   ]
  },
  {
   "cell_type": "code",
   "execution_count": null,
   "metadata": {},
   "outputs": [],
   "source": []
  }
 ],
 "metadata": {
  "kernelspec": {
   "display_name": "Python 3",
   "language": "python",
   "name": "python3"
  },
  "language_info": {
   "codemirror_mode": {
    "name": "ipython",
    "version": 3
   },
   "file_extension": ".py",
   "mimetype": "text/x-python",
   "name": "python",
   "nbconvert_exporter": "python",
   "pygments_lexer": "ipython3",
   "version": "3.7.3"
  }
 },
 "nbformat": 4,
 "nbformat_minor": 2
}
