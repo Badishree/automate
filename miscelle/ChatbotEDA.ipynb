{
 "cells": [
  {
   "cell_type": "code",
   "execution_count": 72,
   "metadata": {},
   "outputs": [],
   "source": [
    "import pandas as pd\n",
    "import numpy as np\n",
    "import datetime"
   ]
  },
  {
   "cell_type": "code",
   "execution_count": 98,
   "metadata": {},
   "outputs": [],
   "source": [
    "Players = pd.read_csv(r\"C:\\Users\\adishree.b\\Desktop\\Players.csv\")\n",
    "Matches = pd.read_csv(r\"C:\\Users\\adishree.b\\Desktop\\Matches.csv\")\n",
    "WorldCup = pd.read_csv(r\"C:\\Users\\adishree.b\\Desktop\\WorldCups.csv\")\n"
   ]
  },
  {
   "cell_type": "code",
   "execution_count": 45,
   "metadata": {
    "collapsed": true
   },
   "outputs": [
    {
     "data": {
      "text/plain": [
       "Year                     int64\n",
       "Datetime                object\n",
       "Stage                   object\n",
       "Stadium                 object\n",
       "City                    object\n",
       "Home Team Name          object\n",
       "Home Team Goals          int64\n",
       "Away Team Goals          int64\n",
       "Away Team Name          object\n",
       "Win conditions          object\n",
       "Attendance               int64\n",
       "Half-time Home Goals     int64\n",
       "Half-time Away Goals     int64\n",
       "Referee                 object\n",
       "Assistant 1             object\n",
       "Assistant 2             object\n",
       "RoundID                  int64\n",
       "MatchID                  int64\n",
       "Home Team Initials      object\n",
       "Away Team Initials      object\n",
       "dtype: object"
      ]
     },
     "execution_count": 45,
     "metadata": {},
     "output_type": "execute_result"
    }
   ],
   "source": [
    "WorldCup.dtypes"
   ]
  },
  {
   "cell_type": "code",
   "execution_count": 46,
   "metadata": {},
   "outputs": [
    {
     "data": {
      "text/html": [
       "<div>\n",
       "<style scoped>\n",
       "    .dataframe tbody tr th:only-of-type {\n",
       "        vertical-align: middle;\n",
       "    }\n",
       "\n",
       "    .dataframe tbody tr th {\n",
       "        vertical-align: top;\n",
       "    }\n",
       "\n",
       "    .dataframe thead th {\n",
       "        text-align: right;\n",
       "    }\n",
       "</style>\n",
       "<table border=\"1\" class=\"dataframe\">\n",
       "  <thead>\n",
       "    <tr style=\"text-align: right;\">\n",
       "      <th></th>\n",
       "      <th>Year</th>\n",
       "      <th>Home Team Goals</th>\n",
       "      <th>Away Team Goals</th>\n",
       "      <th>Attendance</th>\n",
       "      <th>Half-time Home Goals</th>\n",
       "      <th>Half-time Away Goals</th>\n",
       "      <th>RoundID</th>\n",
       "      <th>MatchID</th>\n",
       "    </tr>\n",
       "  </thead>\n",
       "  <tbody>\n",
       "    <tr>\n",
       "      <th>count</th>\n",
       "      <td>708.000000</td>\n",
       "      <td>708.000000</td>\n",
       "      <td>708.000000</td>\n",
       "      <td>708.000000</td>\n",
       "      <td>708.000000</td>\n",
       "      <td>708.000000</td>\n",
       "      <td>7.080000e+02</td>\n",
       "      <td>7.080000e+02</td>\n",
       "    </tr>\n",
       "    <tr>\n",
       "      <th>mean</th>\n",
       "      <td>1979.570621</td>\n",
       "      <td>1.932203</td>\n",
       "      <td>0.981638</td>\n",
       "      <td>43632.741525</td>\n",
       "      <td>0.772599</td>\n",
       "      <td>0.411017</td>\n",
       "      <td>1.277878e+07</td>\n",
       "      <td>1.278013e+07</td>\n",
       "    </tr>\n",
       "    <tr>\n",
       "      <th>std</th>\n",
       "      <td>20.623844</td>\n",
       "      <td>1.664483</td>\n",
       "      <td>1.024979</td>\n",
       "      <td>24526.830148</td>\n",
       "      <td>0.978112</td>\n",
       "      <td>0.648569</td>\n",
       "      <td>2.950051e+07</td>\n",
       "      <td>2.949988e+07</td>\n",
       "    </tr>\n",
       "    <tr>\n",
       "      <th>min</th>\n",
       "      <td>1930.000000</td>\n",
       "      <td>0.000000</td>\n",
       "      <td>0.000000</td>\n",
       "      <td>2000.000000</td>\n",
       "      <td>0.000000</td>\n",
       "      <td>0.000000</td>\n",
       "      <td>2.010000e+02</td>\n",
       "      <td>2.500000e+01</td>\n",
       "    </tr>\n",
       "    <tr>\n",
       "      <th>25%</th>\n",
       "      <td>1966.000000</td>\n",
       "      <td>1.000000</td>\n",
       "      <td>0.000000</td>\n",
       "      <td>26495.500000</td>\n",
       "      <td>0.000000</td>\n",
       "      <td>0.000000</td>\n",
       "      <td>2.500000e+02</td>\n",
       "      <td>1.105750e+03</td>\n",
       "    </tr>\n",
       "    <tr>\n",
       "      <th>50%</th>\n",
       "      <td>1982.000000</td>\n",
       "      <td>2.000000</td>\n",
       "      <td>1.000000</td>\n",
       "      <td>39873.500000</td>\n",
       "      <td>1.000000</td>\n",
       "      <td>0.000000</td>\n",
       "      <td>3.090000e+02</td>\n",
       "      <td>1.705500e+03</td>\n",
       "    </tr>\n",
       "    <tr>\n",
       "      <th>75%</th>\n",
       "      <td>1998.000000</td>\n",
       "      <td>3.000000</td>\n",
       "      <td>1.250000</td>\n",
       "      <td>58816.250000</td>\n",
       "      <td>1.000000</td>\n",
       "      <td>1.000000</td>\n",
       "      <td>1.014000e+03</td>\n",
       "      <td>8.739250e+03</td>\n",
       "    </tr>\n",
       "    <tr>\n",
       "      <th>max</th>\n",
       "      <td>2006.000000</td>\n",
       "      <td>10.000000</td>\n",
       "      <td>7.000000</td>\n",
       "      <td>173850.000000</td>\n",
       "      <td>6.000000</td>\n",
       "      <td>5.000000</td>\n",
       "      <td>9.741060e+07</td>\n",
       "      <td>9.741006e+07</td>\n",
       "    </tr>\n",
       "  </tbody>\n",
       "</table>\n",
       "</div>"
      ],
      "text/plain": [
       "              Year  Home Team Goals  Away Team Goals     Attendance  \\\n",
       "count   708.000000       708.000000       708.000000     708.000000   \n",
       "mean   1979.570621         1.932203         0.981638   43632.741525   \n",
       "std      20.623844         1.664483         1.024979   24526.830148   \n",
       "min    1930.000000         0.000000         0.000000    2000.000000   \n",
       "25%    1966.000000         1.000000         0.000000   26495.500000   \n",
       "50%    1982.000000         2.000000         1.000000   39873.500000   \n",
       "75%    1998.000000         3.000000         1.250000   58816.250000   \n",
       "max    2006.000000        10.000000         7.000000  173850.000000   \n",
       "\n",
       "       Half-time Home Goals  Half-time Away Goals       RoundID       MatchID  \n",
       "count            708.000000            708.000000  7.080000e+02  7.080000e+02  \n",
       "mean               0.772599              0.411017  1.277878e+07  1.278013e+07  \n",
       "std                0.978112              0.648569  2.950051e+07  2.949988e+07  \n",
       "min                0.000000              0.000000  2.010000e+02  2.500000e+01  \n",
       "25%                0.000000              0.000000  2.500000e+02  1.105750e+03  \n",
       "50%                1.000000              0.000000  3.090000e+02  1.705500e+03  \n",
       "75%                1.000000              1.000000  1.014000e+03  8.739250e+03  \n",
       "max                6.000000              5.000000  9.741060e+07  9.741006e+07  "
      ]
     },
     "execution_count": 46,
     "metadata": {},
     "output_type": "execute_result"
    }
   ],
   "source": [
    "Matches.describe()"
   ]
  },
  {
   "cell_type": "code",
   "execution_count": null,
   "metadata": {},
   "outputs": [],
   "source": []
  },
  {
   "cell_type": "code",
   "execution_count": 47,
   "metadata": {},
   "outputs": [
    {
     "data": {
      "text/plain": [
       "RoundID           int64\n",
       "MatchID           int64\n",
       "Team Initials    object\n",
       "Coach Name       object\n",
       "Line-up          object\n",
       "Shirt Number      int64\n",
       "Player Name      object\n",
       "Position         object\n",
       "Goals_Player      int64\n",
       "RedCarded         int64\n",
       "YellowCarded      int64\n",
       "dtype: object"
      ]
     },
     "execution_count": 47,
     "metadata": {},
     "output_type": "execute_result"
    }
   ],
   "source": [
    "Players.dtypes"
   ]
  },
  {
   "cell_type": "code",
   "execution_count": 99,
   "metadata": {},
   "outputs": [
    {
     "data": {
      "text/plain": [
       "Year                     int64\n",
       "Datetime                object\n",
       "Stage                   object\n",
       "Stadium                 object\n",
       "City                    object\n",
       "Home Team Name          object\n",
       "Home Team Goals          int64\n",
       "Away Team Goals          int64\n",
       "Away Team Name          object\n",
       "Win conditions          object\n",
       "Attendance               int64\n",
       "Half-time Home Goals     int64\n",
       "Half-time Away Goals     int64\n",
       "Referee                 object\n",
       "Assistant 1             object\n",
       "Assistant 2             object\n",
       "RoundID                  int64\n",
       "MatchID                  int64\n",
       "Home Team Initials      object\n",
       "Away Team Initials      object\n",
       "Country                 object\n",
       "Winner                  object\n",
       "Runners-Up              object\n",
       "Third                   object\n",
       "Fourth                  object\n",
       "GoalsScored              int64\n",
       "QualifiedTeams           int64\n",
       "MatchesPlayed            int64\n",
       "dtype: object"
      ]
     },
     "execution_count": 99,
     "metadata": {},
     "output_type": "execute_result"
    }
   ],
   "source": [
    "Merged_WC_Matches.dtypes"
   ]
  },
  {
   "cell_type": "code",
   "execution_count": 102,
   "metadata": {},
   "outputs": [],
   "source": [
    "Merged_WC_Matches = pd.merge(Matches,WorldCup, on = ['Year'])"
   ]
  },
  {
   "cell_type": "code",
   "execution_count": 103,
   "metadata": {},
   "outputs": [],
   "source": [
    "Merged_final = pd.merge(Players,Merged_WC_Matches, on = ['MatchID'])"
   ]
  },
  {
   "cell_type": "code",
   "execution_count": 104,
   "metadata": {},
   "outputs": [
    {
     "data": {
      "text/plain": [
       "(852, 20)"
      ]
     },
     "execution_count": 104,
     "metadata": {},
     "output_type": "execute_result"
    }
   ],
   "source": [
    "Matches.shape"
   ]
  },
  {
   "cell_type": "code",
   "execution_count": 105,
   "metadata": {},
   "outputs": [
    {
     "data": {
      "text/plain": [
       "(20, 9)"
      ]
     },
     "execution_count": 105,
     "metadata": {},
     "output_type": "execute_result"
    }
   ],
   "source": [
    "WorldCup.shape"
   ]
  },
  {
   "cell_type": "code",
   "execution_count": 106,
   "metadata": {},
   "outputs": [
    {
     "data": {
      "text/plain": [
       "(37784, 10)"
      ]
     },
     "execution_count": 106,
     "metadata": {},
     "output_type": "execute_result"
    }
   ],
   "source": [
    "Players.shape"
   ]
  },
  {
   "cell_type": "code",
   "execution_count": 107,
   "metadata": {},
   "outputs": [
    {
     "data": {
      "text/plain": [
       "(852, 28)"
      ]
     },
     "execution_count": 107,
     "metadata": {},
     "output_type": "execute_result"
    }
   ],
   "source": [
    "Merged_WC_Matches.shape"
   ]
  },
  {
   "cell_type": "code",
   "execution_count": 108,
   "metadata": {},
   "outputs": [
    {
     "data": {
      "text/plain": [
       "(39256, 37)"
      ]
     },
     "execution_count": 108,
     "metadata": {},
     "output_type": "execute_result"
    }
   ],
   "source": [
    "Merged_final.shape"
   ]
  },
  {
   "cell_type": "code",
   "execution_count": 109,
   "metadata": {},
   "outputs": [],
   "source": [
    "Merged_final.to_csv(r\"C:\\Users\\adishree.b\\Desktop\\MergedFinal.csv\")"
   ]
  },
  {
   "cell_type": "code",
   "execution_count": 110,
   "metadata": {},
   "outputs": [
    {
     "data": {
      "text/plain": [
       "MatchID                     0\n",
       "Team Initials               0\n",
       "Coach Name                  0\n",
       "Line-up                     0\n",
       "Shirt Number                0\n",
       "Player Name                 0\n",
       "Position                34863\n",
       "Goals_Player                0\n",
       "RedCarded                   0\n",
       "YellowCarded                0\n",
       "Year                        0\n",
       "Datetime                    0\n",
       "Stage                       0\n",
       "Stadium                     0\n",
       "City                        0\n",
       "Home Team Name              0\n",
       "Home Team Goals             0\n",
       "Away Team Goals             0\n",
       "Away Team Name              0\n",
       "Win conditions              0\n",
       "Attendance                  0\n",
       "Half-time Home Goals        0\n",
       "Half-time Away Goals        0\n",
       "Referee                     0\n",
       "Assistant 1                 0\n",
       "Assistant 2                 0\n",
       "RoundID                     0\n",
       "Home Team Initials          0\n",
       "Away Team Initials          0\n",
       "Country                     0\n",
       "Winner                      0\n",
       "Runners-Up                  0\n",
       "Third                       0\n",
       "Fourth                      0\n",
       "GoalsScored                 0\n",
       "QualifiedTeams              0\n",
       "MatchesPlayed               0\n",
       "dtype: int64"
      ]
     },
     "execution_count": 110,
     "metadata": {},
     "output_type": "execute_result"
    }
   ],
   "source": [
    "Merged_final.isnull().sum()"
   ]
  },
  {
   "cell_type": "code",
   "execution_count": null,
   "metadata": {},
   "outputs": [],
   "source": []
  }
 ],
 "metadata": {
  "kernelspec": {
   "display_name": "Python 3",
   "language": "python",
   "name": "python3"
  },
  "language_info": {
   "codemirror_mode": {
    "name": "ipython",
    "version": 3
   },
   "file_extension": ".py",
   "mimetype": "text/x-python",
   "name": "python",
   "nbconvert_exporter": "python",
   "pygments_lexer": "ipython3",
   "version": "3.7.3"
  }
 },
 "nbformat": 4,
 "nbformat_minor": 2
}
