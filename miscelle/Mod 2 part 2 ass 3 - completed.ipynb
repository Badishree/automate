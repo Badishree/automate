{
 "cells": [
  {
   "cell_type": "code",
   "execution_count": 105,
   "metadata": {},
   "outputs": [],
   "source": [
    "import pandas as pd\n",
    "import numpy as np\n",
    "import matplotlib.pyplot as plt\n",
    "%matplotlib inline\n",
    "from scipy import stats\n",
    "import seaborn as sns"
   ]
  },
  {
   "cell_type": "code",
   "execution_count": 2,
   "metadata": {},
   "outputs": [],
   "source": [
    "df = pd.read_csv(r\"C:\\Users\\adishree.b\\Documents\\ds\\Mod 2 part 2\\salary.csv\")"
   ]
  },
  {
   "cell_type": "code",
   "execution_count": 95,
   "metadata": {},
   "outputs": [
    {
     "data": {
      "text/plain": [
       "(279, 3)"
      ]
     },
     "execution_count": 95,
     "metadata": {},
     "output_type": "execute_result"
    }
   ],
   "source": [
    "df.shape"
   ]
  },
  {
   "cell_type": "code",
   "execution_count": 97,
   "metadata": {},
   "outputs": [
    {
     "data": {
      "text/html": [
       "<div>\n",
       "<style scoped>\n",
       "    .dataframe tbody tr th:only-of-type {\n",
       "        vertical-align: middle;\n",
       "    }\n",
       "\n",
       "    .dataframe tbody tr th {\n",
       "        vertical-align: top;\n",
       "    }\n",
       "\n",
       "    .dataframe thead th {\n",
       "        text-align: right;\n",
       "    }\n",
       "</style>\n",
       "<table border=\"1\" class=\"dataframe\">\n",
       "  <thead>\n",
       "    <tr style=\"text-align: right;\">\n",
       "      <th></th>\n",
       "      <th>Name</th>\n",
       "      <th>Age</th>\n",
       "      <th>Salary</th>\n",
       "    </tr>\n",
       "  </thead>\n",
       "  <tbody>\n",
       "    <tr>\n",
       "      <th>0</th>\n",
       "      <td>Candidate1</td>\n",
       "      <td>27.0</td>\n",
       "      <td>117562.0</td>\n",
       "    </tr>\n",
       "    <tr>\n",
       "      <th>1</th>\n",
       "      <td>Candidate2</td>\n",
       "      <td>22.0</td>\n",
       "      <td>28564.0</td>\n",
       "    </tr>\n",
       "  </tbody>\n",
       "</table>\n",
       "</div>"
      ],
      "text/plain": [
       "         Name   Age    Salary\n",
       "0  Candidate1  27.0  117562.0\n",
       "1  Candidate2  22.0   28564.0"
      ]
     },
     "execution_count": 97,
     "metadata": {},
     "output_type": "execute_result"
    }
   ],
   "source": [
    "df.head(2)"
   ]
  },
  {
   "cell_type": "markdown",
   "metadata": {},
   "source": [
    "# 1.\tHow many missing records exist in the columns ‘Age’ and ‘Salary’?"
   ]
  },
  {
   "cell_type": "code",
   "execution_count": 3,
   "metadata": {},
   "outputs": [
    {
     "data": {
      "text/plain": [
       "Name      0\n",
       "Age       9\n",
       "Salary    5\n",
       "dtype: int64"
      ]
     },
     "execution_count": 3,
     "metadata": {},
     "output_type": "execute_result"
    }
   ],
   "source": [
    "df.isnull().sum()"
   ]
  },
  {
   "cell_type": "code",
   "execution_count": 4,
   "metadata": {},
   "outputs": [],
   "source": [
    "# We can see that there are 9 values missing in the Age column and 5 in the Salary column."
   ]
  },
  {
   "cell_type": "markdown",
   "metadata": {},
   "source": [
    "# 2.\tIf you have missing values in the columns ‘Age’ and ‘Salary’, replace them using their respective mean value"
   ]
  },
  {
   "cell_type": "code",
   "execution_count": 6,
   "metadata": {},
   "outputs": [],
   "source": [
    "df_new = df.fillna(df.mean())"
   ]
  },
  {
   "cell_type": "code",
   "execution_count": 7,
   "metadata": {},
   "outputs": [
    {
     "data": {
      "text/plain": [
       "Name      0\n",
       "Age       0\n",
       "Salary    0\n",
       "dtype: int64"
      ]
     },
     "execution_count": 7,
     "metadata": {},
     "output_type": "execute_result"
    }
   ],
   "source": [
    "df_new.isnull().sum()"
   ]
  },
  {
   "cell_type": "code",
   "execution_count": 8,
   "metadata": {},
   "outputs": [],
   "source": [
    "# The new dataframe 'df_new' is the updated dataframe where the missing values are replaced with the mean values."
   ]
  },
  {
   "cell_type": "markdown",
   "metadata": {},
   "source": [
    "# 3.\tIf you have extreme values in your variable, which measure do you use between Mean, Median and Mode?"
   ]
  },
  {
   "cell_type": "code",
   "execution_count": 93,
   "metadata": {},
   "outputs": [],
   "source": [
    "# In case of extreme values in the variable, Median is a better estimate for finding the centrality of the data.\n",
    "# In our dataset, we can check if there are extreme values in the Age and Salary column \n",
    "# (taking values outside the 1 precentile and 99 percentile)"
   ]
  },
  {
   "cell_type": "code",
   "execution_count": 94,
   "metadata": {},
   "outputs": [
    {
     "name": "stdout",
     "output_type": "stream",
     "text": [
      "Age outliers: \n",
      " Series([], Name: Age, dtype: int32)\n",
      "Salary outliers:\n",
      " 17     607939\n",
      "147    621334\n",
      "276    605956\n",
      "Name: Salary, dtype: int32\n"
     ]
    }
   ],
   "source": [
    "a = df_new['Age']\n",
    "b = df_new['Salary']\n",
    "Age_IQR, Salary_IQR = a[a.between(a.quantile(.01), a.quantile(.99))] , b[b.between(b.quantile(.01), b.quantile(.99))]\n",
    "Age_outliers= a[~a.isin(Age_IQR)]\n",
    "Salary_outliers  = b[~b.isin(Salary_IQR)]\n",
    "print(\"Age outliers: \\n\", Age_outliers)\n",
    "print(\"Salary outliers:\\n\", Salary_outliers)     "
   ]
  },
  {
   "cell_type": "code",
   "execution_count": 100,
   "metadata": {},
   "outputs": [],
   "source": [
    "# so there are no extreme values in age but 3 extreme values in salary column, \n",
    "# Hence mean would suffice for the Age as a estimate of centralitiy whereas median would be prefereable for Salary "
   ]
  },
  {
   "cell_type": "code",
   "execution_count": 99,
   "metadata": {},
   "outputs": [],
   "source": [
    "# finding the mean, median and mode values for the 2 columns:"
   ]
  },
  {
   "cell_type": "code",
   "execution_count": 32,
   "metadata": {},
   "outputs": [
    {
     "name": "stdout",
     "output_type": "stream",
     "text": [
      "the mean of age is:  39.092592592592595\n",
      "the median of age is:  39.092592592592595\n",
      "the mode of age is:  0    39.0\n",
      "1    43.0\n",
      "dtype: float64\n"
     ]
    }
   ],
   "source": [
    "mean_age = df_new['Age'].mean()\n",
    "median_age = df_new['Age'].median()\n",
    "mode_age = df_new['Age'].mode()\n",
    "\n",
    "print('the mean of age is: ',mean_age)\n",
    "print('the median of age is: ',median_age)\n",
    "print('the mode of age is: ',mode_age)"
   ]
  },
  {
   "cell_type": "code",
   "execution_count": null,
   "metadata": {},
   "outputs": [],
   "source": [
    "# As we can see, mean and median are giving exactly the same result, showing a perfectly standard distribution. "
   ]
  },
  {
   "cell_type": "code",
   "execution_count": 33,
   "metadata": {},
   "outputs": [
    {
     "name": "stdout",
     "output_type": "stream",
     "text": [
      "the mean of salary is:  313242.4416058394\n",
      "the median of salary is:  327440.0\n",
      "the mode of salary is:  0    12000.0\n",
      "dtype: float64\n"
     ]
    }
   ],
   "source": [
    "mean_salary = df_new['Salary'].mean()\n",
    "median_salary = df_new['Salary'].median()\n",
    "mode_salary = df_new['Salary'].mode()\n",
    "\n",
    "print('the mean of salary is: ',mean_salary)\n",
    "print('the median of salary is: ',median_salary)\n",
    "print('the mode of salary is: ',mode_salary)"
   ]
  },
  {
   "cell_type": "code",
   "execution_count": 98,
   "metadata": {},
   "outputs": [],
   "source": [
    "# Here, mean and median values differ. However, due to presence of extreme values Median would be the more appropriate of the 2"
   ]
  },
  {
   "cell_type": "markdown",
   "metadata": {},
   "source": [
    "# 4.\tWhat is the average value of Age and Salary after imputing missing values?"
   ]
  },
  {
   "cell_type": "code",
   "execution_count": 101,
   "metadata": {},
   "outputs": [],
   "source": [
    "# Since we filled the missing values with the average values in both Age and Salary, their mean values should remain unchanged.\n",
    "# Here, we consider the average of the columns to be computed neglecting the na values and not counting them as 0's."
   ]
  },
  {
   "cell_type": "code",
   "execution_count": 103,
   "metadata": {},
   "outputs": [
    {
     "name": "stdout",
     "output_type": "stream",
     "text": [
      "previous average age:  39.092592592592595 ,  current average age:  39.092592592592595\n",
      "previous average salary:  313242.4416058394 ,  current average salary:  313242.4416058394\n"
     ]
    }
   ],
   "source": [
    "print(\"previous average age: \",df['Age'].mean() , \",  current average age: \",df['Age'].mean())\n",
    "print(\"previous average salary: \",df['Salary'].mean() , \",  current average salary: \",df['Salary'].mean())"
   ]
  },
  {
   "cell_type": "code",
   "execution_count": 104,
   "metadata": {},
   "outputs": [],
   "source": [
    "# As we predicted, the average value of Age and Salary are same before and after imputing the missing values"
   ]
  },
  {
   "cell_type": "markdown",
   "metadata": {},
   "source": [
    "# 5.\tCreate a chart that can depict missing values pattern for the variable ‘Age’ and ‘Salary’"
   ]
  },
  {
   "cell_type": "code",
   "execution_count": 110,
   "metadata": {},
   "outputs": [
    {
     "data": {
      "text/plain": [
       "<matplotlib.axes._subplots.AxesSubplot at 0x23edf3e25c0>"
      ]
     },
     "execution_count": 110,
     "metadata": {},
     "output_type": "execute_result"
    },
    {
     "data": {
      "image/png": "[encoded data removed]",
      "text/plain": [
       "<Figure size 432x288 with 1 Axes>"
      ]
     },
     "metadata": {
      "needs_background": "light"
     },
     "output_type": "display_data"
    }
   ],
   "source": [
    "sns.heatmap(df.isnull(), cbar=False)"
   ]
  },
  {
   "cell_type": "code",
   "execution_count": 111,
   "metadata": {},
   "outputs": [],
   "source": [
    "# In the above chart, the white lines represent the missing values.\n",
    "# This shows that all the missing values fall under the first 90 rows of data."
   ]
  }
 ],
 "metadata": {
  "kernelspec": {
   "display_name": "Python 3",
   "language": "python",
   "name": "python3"
  },
  "language_info": {
   "codemirror_mode": {
    "name": "ipython",
    "version": 3
   },
   "file_extension": ".py",
   "mimetype": "text/x-python",
   "name": "python",
   "nbconvert_exporter": "python",
   "pygments_lexer": "ipython3",
   "version": "3.7.1"
  }
 },
 "nbformat": 4,
 "nbformat_minor": 2
}
