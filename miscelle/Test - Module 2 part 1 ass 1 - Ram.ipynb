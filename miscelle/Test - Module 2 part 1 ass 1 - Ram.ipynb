{
 "cells": [
  {
   "cell_type": "code",
   "execution_count": 9,
   "metadata": {},
   "outputs": [],
   "source": [
    "# importing the dataset\n",
    "\n",
    "import pandas as pd\n",
    "df = pd.read_csv(r\"C:\\Users\\adishree.b\\Documents\\part 1 ass 1.csv\")"
   ]
  },
  {
   "cell_type": "markdown",
   "metadata": {},
   "source": [
    "### 1)  Check for null values in vehicle type column, replace it with ‘Others’, check for null values for all features, Gearbox nans can be called “Unspecified”, fuelType can be called “Others”"
   ]
  },
  {
   "cell_type": "code",
   "execution_count": 10,
   "metadata": {},
   "outputs": [
    {
     "data": {
      "text/plain": [
       "Index(['dateCrawled', 'name', 'seller', 'offerType', 'price', 'abtest',\n",
       "       'vehicleType', 'yearOfRegistration', 'gearbox', 'powerPS', 'model',\n",
       "       'kilometer', 'monthOfRegistration', 'fuelType', 'brand',\n",
       "       'notRepairedDamage', 'dateCreated', 'nrOfPictures', 'postalCode',\n",
       "       'lastSeen'],\n",
       "      dtype='object')"
      ]
     },
     "execution_count": 10,
     "metadata": {},
     "output_type": "execute_result"
    }
   ],
   "source": [
    "df.columns"
   ]
  },
  {
   "cell_type": "code",
   "execution_count": 11,
   "metadata": {},
   "outputs": [
    {
     "data": {
      "text/plain": [
       "False    2748\n",
       "True      334\n",
       "Name: vehicleType, dtype: int64"
      ]
     },
     "execution_count": 11,
     "metadata": {},
     "output_type": "execute_result"
    }
   ],
   "source": [
    "# Checking the null values in the vehicleType column:\n",
    "\n",
    "df['vehicleType'].isnull().value_counts()"
   ]
  },
  {
   "cell_type": "code",
   "execution_count": 16,
   "metadata": {},
   "outputs": [],
   "source": [
    "# replacing the null values with 'Others':\n",
    "\n",
    "df['vehicleType'].fillna('Others',inplace = True)"
   ]
  },
  {
   "cell_type": "code",
   "execution_count": 17,
   "metadata": {},
   "outputs": [
    {
     "data": {
      "text/plain": [
       "False    3082\n",
       "Name: vehicleType, dtype: int64"
      ]
     },
     "execution_count": 17,
     "metadata": {},
     "output_type": "execute_result"
    }
   ],
   "source": [
    "# checking the null values in the vehicleType column:\n",
    "\n",
    "df['vehicleType'].isnull().value_counts()"
   ]
  },
  {
   "cell_type": "code",
   "execution_count": 20,
   "metadata": {},
   "outputs": [
    {
     "data": {
      "text/plain": [
       "limousine     804\n",
       "kleinwagen    647\n",
       "kombi         552\n",
       "Others        334\n",
       "bus           238\n",
       "cabrio        188\n",
       "coupe         171\n",
       "suv           110\n",
       "andere         38\n",
       "Name: vehicleType, dtype: int64"
      ]
     },
     "execution_count": 20,
     "metadata": {},
     "output_type": "execute_result"
    }
   ],
   "source": [
    "# we can see that there are Others inplace of null values\n",
    "\n",
    "df['vehicleType'].value_counts()"
   ]
  },
  {
   "cell_type": "code",
   "execution_count": 22,
   "metadata": {},
   "outputs": [
    {
     "data": {
      "text/plain": [
       "dateCrawled              0\n",
       "name                     0\n",
       "seller                   0\n",
       "offerType                0\n",
       "price                    0\n",
       "abtest                   0\n",
       "vehicleType              0\n",
       "yearOfRegistration       0\n",
       "gearbox                162\n",
       "powerPS                  0\n",
       "model                  154\n",
       "kilometer                0\n",
       "monthOfRegistration      0\n",
       "fuelType               292\n",
       "brand                    0\n",
       "notRepairedDamage      613\n",
       "dateCreated              0\n",
       "nrOfPictures             0\n",
       "postalCode               0\n",
       "lastSeen                 0\n",
       "dtype: int64"
      ]
     },
     "execution_count": 22,
     "metadata": {},
     "output_type": "execute_result"
    }
   ],
   "source": [
    "# Checking the null values in all the features\n",
    "\n",
    "df.isnull().sum()"
   ]
  },
  {
   "cell_type": "code",
   "execution_count": 23,
   "metadata": {},
   "outputs": [],
   "source": [
    "# replacing na values in gearbox with 'Unspecigfied' and fuelType with 'Others' just like we did above for vehicleType\n",
    "\n",
    "df['gearbox'].fillna('Unspecified',inplace = True)\n",
    "df['fuelType'].fillna('Others',inplace = True)"
   ]
  },
  {
   "cell_type": "code",
   "execution_count": 28,
   "metadata": {},
   "outputs": [
    {
     "name": "stdout",
     "output_type": "stream",
     "text": [
      "value counts in gearbox \n",
      " manuell        2275\n",
      "automatik       645\n",
      "Unspecified     162\n",
      "Name: gearbox, dtype: int64 \n",
      " \n",
      " value counts in fuelType \n",
      " benzin    1850\n",
      "diesel     898\n",
      "Others     292\n",
      "lpg         37\n",
      "andere       3\n",
      "hybrid       1\n",
      "cng          1\n",
      "Name: fuelType, dtype: int64\n"
     ]
    }
   ],
   "source": [
    "# we can see that the values 'Unspecified' in gearbox and 'Others' in fuelType have replaced the nan values\n",
    "\n",
    "print('value counts in gearbox \\n', df['gearbox'].value_counts(), '\\n' , '\\n', 'value counts in fuelType \\n', df['fuelType'].value_counts())"
   ]
  },
  {
   "cell_type": "markdown",
   "metadata": {},
   "source": [
    "### 2) Replace the values in Offer column to English language."
   ]
  },
  {
   "cell_type": "code",
   "execution_count": 29,
   "metadata": {},
   "outputs": [
    {
     "data": {
      "text/plain": [
       "Angebot    3082\n",
       "Name: offerType, dtype: int64"
      ]
     },
     "execution_count": 29,
     "metadata": {},
     "output_type": "execute_result"
    }
   ],
   "source": [
    "# checking the values present in the offerType column (mentioned as offer column in the question):\n",
    "\n",
    "df['offerType'].value_counts()"
   ]
  },
  {
   "cell_type": "code",
   "execution_count": 30,
   "metadata": {},
   "outputs": [],
   "source": [
    "# The only value present in the offerType column is 'Angebot'.\n",
    "# Googling the word 'Angebot', we can find out that it is a German word, which means 'offer' in English.\n",
    "# Hence, we wil replace the word 'Angebot' with 'offer' as per the question.\n",
    "\n",
    "df['offerType'] = df['offerType'].replace({'Angebot':'offer'})"
   ]
  },
  {
   "cell_type": "code",
   "execution_count": 31,
   "metadata": {},
   "outputs": [
    {
     "data": {
      "text/plain": [
       "offer    3082\n",
       "Name: offerType, dtype: int64"
      ]
     },
     "execution_count": 31,
     "metadata": {},
     "output_type": "execute_result"
    }
   ],
   "source": [
    "# now we can see below the values of the offerType is showing 'offer' instead of 'Angebot'\n",
    "\n",
    "df['offerType'].value_counts()"
   ]
  },
  {
   "cell_type": "markdown",
   "metadata": {},
   "source": [
    "### 3) Plot the distribution of vehicles based on their years of registration"
   ]
  },
  {
   "cell_type": "code",
   "execution_count": null,
   "metadata": {},
   "outputs": [],
   "source": [
    "# To create the distribution of vehicles based on their years of registration, we will do the following:\n",
    "# Plot number of vehicles registered in each year chronologically. i.e. x-axis = yearOfRegistration, y-axis = number of vehicles\n",
    "\n",
    "### Steps\n",
    "# 1 find the number of vehicles registered in each year             {df['yearOfRegistration'].value_counts()}\n",
    "# 2 sort the result by 'yearOfRegistration' in ascending order      {with sort_index() since the year column is index here}\n",
    "# 3 plot the result with barplot                                    {with plot.bar() function}\n",
    "\n",
    "# combining all 3 steps, we can get the output plot in one line as below"
   ]
  },
  {
   "cell_type": "code",
   "execution_count": 95,
   "metadata": {},
   "outputs": [
    {
     "data": {
      "text/plain": [
       "<matplotlib.axes._subplots.AxesSubplot at 0x1e6fb5b02b0>"
      ]
     },
     "execution_count": 95,
     "metadata": {},
     "output_type": "execute_result"
    },
    {
     "data": {
      "image/png": "[encoded data removed]",
      "text/plain": [
       "<Figure size 1440x360 with 1 Axes>"
      ]
     },
     "metadata": {
      "needs_background": "light"
     },
     "output_type": "display_data"
    }
   ],
   "source": [
    "fig = plt.figure(figsize=(20,5))\n",
    "plt.xlabel('Year of registration')\n",
    "plt.ylabel('Number of Vehicles registered')\n",
    "plt.title('Distribution of vehicles by year of Registration')\n",
    "df['yearOfRegistration'].value_counts().sort_index().plot.bar()"
   ]
  },
  {
   "cell_type": "markdown",
   "metadata": {},
   "source": [
    "### 4) Clean the logical issues (Quality issues) within yearOfRegistration column (Figure out what is the problem yourself)\n"
   ]
  },
  {
   "cell_type": "code",
   "execution_count": 107,
   "metadata": {},
   "outputs": [
    {
     "data": {
      "text/plain": [
       "(1, 20)"
      ]
     },
     "execution_count": 107,
     "metadata": {},
     "output_type": "execute_result"
    }
   ],
   "source": [
    "# One logical issue is that one of the value in the yearOfRegistration column shows 1111.\n",
    "#Lets check if there rows where values are less than 1900.\n",
    "df[df['yearOfRegistration']<=1900].shape"
   ]
  },
  {
   "cell_type": "code",
   "execution_count": 108,
   "metadata": {},
   "outputs": [
    {
     "data": {
      "text/plain": [
       "1910"
      ]
     },
     "execution_count": 108,
     "metadata": {},
     "output_type": "execute_result"
    }
   ],
   "source": [
    "# There is only one row which has registration year less than 1900.\n",
    "# It can't be possible because there were no cars before 1800s. Hence, we will delete this row.\n",
    "# For this, let's create a new df(df1) where only the year of registration greater than 1900 are present. \n",
    "\n",
    "df1 = df[df['yearOfRegistration']>=1900]\n",
    "df1['yearOfRegistration'].min()"
   ]
  },
  {
   "cell_type": "code",
   "execution_count": null,
   "metadata": {},
   "outputs": [],
   "source": [
    "# We can see that the minimum value in year of registration is 1910, which seems logical.\n",
    "# We also checked the na values in the 1st questions and this column had no na values.\n",
    "# Looking at the plot created in Ques 3, we don't see any other logical issues."
   ]
  },
  {
   "cell_type": "markdown",
   "metadata": {},
   "source": [
    "### 5) Plot a box plot of the price for each vehicle type."
   ]
  },
  {
   "cell_type": "code",
   "execution_count": 122,
   "metadata": {},
   "outputs": [
    {
     "data": {
      "text/plain": [
       "limousine     804\n",
       "kleinwagen    647\n",
       "kombi         552\n",
       "Others        333\n",
       "bus           238\n",
       "cabrio        188\n",
       "coupe         171\n",
       "suv           110\n",
       "andere         38\n",
       "Name: vehicleType, dtype: int64"
      ]
     },
     "execution_count": 122,
     "metadata": {},
     "output_type": "execute_result"
    }
   ],
   "source": [
    "# let's check the vehicle types and see how many types are there\n",
    "df1['vehicleType'].value_counts()"
   ]
  },
  {
   "cell_type": "code",
   "execution_count": 129,
   "metadata": {},
   "outputs": [
    {
     "data": {
      "image/png": "[encoded data removed]",
      "text/plain": [
       "<Figure size 1440x576 with 1 Axes>"
      ]
     },
     "metadata": {
      "needs_background": "light"
     },
     "output_type": "display_data"
    }
   ],
   "source": [
    "# Creating the boxplot of the price for each vehicleType:\n",
    "\n",
    "boxplot = df1.boxplot(column=['price'], by = 'vehicleType', figsize= (20,8))"
   ]
  },
  {
   "cell_type": "markdown",
   "metadata": {},
   "source": [
    "### 6) Provide Descriptive Statistics for the price column."
   ]
  },
  {
   "cell_type": "code",
   "execution_count": 128,
   "metadata": {},
   "outputs": [
    {
     "data": {
      "text/plain": [
       "count      3081.000000\n",
       "mean       5876.188251\n",
       "std       12970.416767\n",
       "min           0.000000\n",
       "25%        1200.000000\n",
       "50%        2999.000000\n",
       "75%        7255.000000\n",
       "max      579000.000000\n",
       "Name: price, dtype: float64"
      ]
     },
     "execution_count": 128,
     "metadata": {},
     "output_type": "execute_result"
    }
   ],
   "source": [
    "# getting the descriptive statistics for price column\n",
    "\n",
    "df1['price'].describe()"
   ]
  },
  {
   "cell_type": "markdown",
   "metadata": {},
   "source": [
    "### 7) Remove the outliers based on the previous statistics found in 6. You can assume that outliers are the values greater than this value. IQR*1.5 + Median."
   ]
  },
  {
   "cell_type": "code",
   "execution_count": 133,
   "metadata": {},
   "outputs": [
    {
     "name": "stdout",
     "output_type": "stream",
     "text": [
      "12081.5\n"
     ]
    }
   ],
   "source": [
    "# since the outliers values are values greater than (IQR*1.5 + Median), we will create the threshold value\n",
    "# we can then remove the rows that have values greater than the threshold value\n",
    "\n",
    "Q3 = 7255\n",
    "Q1 = 1200\n",
    "Median = 2999\n",
    "IQR = Q3 - Q1\n",
    "outliers_threshold = IQR*1.5 + Median\n",
    "print(outliers_threshold)"
   ]
  },
  {
   "cell_type": "code",
   "execution_count": 150,
   "metadata": {},
   "outputs": [
    {
     "name": "stdout",
     "output_type": "stream",
     "text": [
      "the previous max value was:  579000 \n",
      " the previous max value is:  12000\n",
      "\n",
      " new descriptive statistics: \n",
      "\n",
      " count     2672.000000\n",
      "mean      3372.688623\n",
      "std       3003.545504\n",
      "min          0.000000\n",
      "25%        999.750000\n",
      "50%       2400.000000\n",
      "75%       4999.000000\n",
      "max      12000.000000\n",
      "Name: price, dtype: float64\n"
     ]
    }
   ],
   "source": [
    "# Removing the rows where price is in the outlier and then checking the max values as well as the descriptive statistics again\n",
    "# and see the differences after the removal of outliers\n",
    "\n",
    "df2 = df[df['price']<=outliers_threshold]\n",
    "\n",
    "print('the previous max value was: ', df1['price'].max(), '\\n','the previous max value is: ', df2['price'].max())\n",
    "print('\\n', 'new descriptive statistics: \\n\\n', df2['price'].describe())"
   ]
  }
 ],
 "metadata": {
  "kernelspec": {
   "display_name": "Python 3",
   "language": "python",
   "name": "python3"
  },
  "language_info": {
   "codemirror_mode": {
    "name": "ipython",
    "version": 3
   },
   "file_extension": ".py",
   "mimetype": "text/x-python",
   "name": "python",
   "nbconvert_exporter": "python",
   "pygments_lexer": "ipython3",
   "version": "3.7.3"
  }
 },
 "nbformat": 4,
 "nbformat_minor": 2
}
