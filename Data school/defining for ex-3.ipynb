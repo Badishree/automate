{
 "cells": [
  {
   "cell_type": "code",
   "execution_count": null,
   "metadata": {},
   "outputs": [],
   "source": [
    "file = ['row', 't_400m', 'b_ball', 'netball', 'swim', 'field', 'w_polo', 't_sprnt', 'tennis', 'gym']"
   ]
  },
  {
   "cell_type": "code",
   "execution_count": null,
   "metadata": {},
   "outputs": [],
   "source": [
    "def file    \n",
    "    for i in file:\n",
    "    fname = 'data_'+ i\n",
    "    fname = df[df['Sport'] == i]"
   ]
  },
  {
   "cell_type": "code",
   "execution_count": null,
   "metadata": {},
   "outputs": [],
   "source": [
    "def descriptive(dataname, outname)\n",
    "    for i in file,\n",
    "    dataname = 'descriptive_' + i\n",
    "    outname = 'Ans'+ i\n",
    "    \n",
    "    return:\n",
    "    dataname.tocsv(r\"C:\\Users\\adishree.b\\Documents\\Basic answers\\outname.csv')"
   ]
  }
 ],
 "metadata": {
  "kernelspec": {
   "display_name": "Python 3",
   "language": "python",
   "name": "python3"
  },
  "language_info": {
   "codemirror_mode": {
    "name": "ipython",
    "version": 3
   },
   "file_extension": ".py",
   "mimetype": "text/x-python",
   "name": "python",
   "nbconvert_exporter": "python",
   "pygments_lexer": "ipython3",
   "version": "3.7.1"
  }
 },
 "nbformat": 4,
 "nbformat_minor": 2
}
